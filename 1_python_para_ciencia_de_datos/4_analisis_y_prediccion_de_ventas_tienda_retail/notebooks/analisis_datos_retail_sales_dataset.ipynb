{
 "cells": [
  {
   "cell_type": "markdown",
   "metadata": {},
   "source": [
    "# Análisis de dataset Retail Sales Dataset (2023-2024)\n",
    "\n",
    "Este DataSet se puede encontrar en Kaggle: https://www.kaggle.com/datasets/mohammadtalib786/retail-sales-dataset"
   ]
  },
  {
   "cell_type": "markdown",
   "metadata": {},
   "source": [
    "### Lectura inicial de los datos"
   ]
  },
  {
   "cell_type": "code",
   "execution_count": 50,
   "metadata": {},
   "outputs": [
    {
     "name": "stdout",
     "output_type": "stream",
     "text": [
      "Datos Correctos\n"
     ]
    }
   ],
   "source": [
    "import csv\n",
    "import numpy as np\n",
    "\n",
    "\n",
    "def cargar_datos(ruta_archivo):\n",
    "    datos = []\n",
    "    with open(ruta_archivo, \"r\") as f:\n",
    "        lector = csv.reader(f, delimiter=\",\")\n",
    "        cabecera_leida = False\n",
    "\n",
    "        for fila in lector:\n",
    "            if cabecera_leida:\n",
    "                datos.append(fila)\n",
    "\n",
    "            cabecera_leida = True\n",
    "\n",
    "    return np.array(datos)\n",
    "        \n",
    "        \n",
    "\n",
    "def verificar_datos_correctos(datos):\n",
    "    # TODO: Corroborar con profesores si no se puede hacer este análisis directamente con numpy\n",
    "    for fila in datos:\n",
    "        for elemento in fila:\n",
    "            if elemento is None or elemento == \"\":\n",
    "                return False\n",
    "\n",
    "    return True\n",
    "\n",
    "datos = cargar_datos(\"../data/retail_sales_dataset.csv\")\n",
    "datos_correctos = verificar_datos_correctos(datos)\n",
    "\n",
    "if not datos_correctos:\n",
    "    print(\"Datos Incorrectos, verifique el dataset.\")\n",
    "else:\n",
    "    print(\"Datos Correctos\")"
   ]
  },
  {
   "cell_type": "code",
   "execution_count": 51,
   "metadata": {},
   "outputs": [
    {
     "name": "stdout",
     "output_type": "stream",
     "text": [
      "[['Transaction ID' 'Date' 'Customer ID' ... 'Quantity' 'Price per Unit'\n",
      "  'Total Amount']\n",
      " ['1' '2023-11-24' 'CUST001' ... '3' '50' '150']\n",
      " ['2' '2023-02-27' 'CUST002' ... '2' '500' '1000']\n",
      " ...\n",
      " ['998' '2023-10-29' 'CUST998' ... '4' '25' '100']\n",
      " ['999' '2023-12-05' 'CUST999' ... '3' '50' '150']\n",
      " ['1000' '2023-04-12' 'CUST1000' ... '4' '30' '120']]\n"
     ]
    }
   ],
   "source": [
    "print(datos)\n"
   ]
  }
 ],
 "metadata": {
  "kernelspec": {
   "display_name": "ds_bootcamp_venv",
   "language": "python",
   "name": "python3"
  },
  "language_info": {
   "codemirror_mode": {
    "name": "ipython",
    "version": 3
   },
   "file_extension": ".py",
   "mimetype": "text/x-python",
   "name": "python",
   "nbconvert_exporter": "python",
   "pygments_lexer": "ipython3",
   "version": "3.10.6"
  }
 },
 "nbformat": 4,
 "nbformat_minor": 2
}
